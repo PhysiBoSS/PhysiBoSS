{
 "cells": [
  {
   "cell_type": "code",
   "execution_count": 55,
   "id": "d9017054",
   "metadata": {},
   "outputs": [],
   "source": [
    "import pandas as pd\n",
    "import matplotlib.pyplot as plt\n",
    "import seaborn as sns\n",
    "import numpy as np"
   ]
  },
  {
   "cell_type": "code",
   "execution_count": 56,
   "id": "b924bbcd",
   "metadata": {},
   "outputs": [],
   "source": [
    "# ECM:\n",
    "ecm_data = pd.read_csv('../config/initial_cond/cylinder_unit_ecm_2D_doble.tsv', sep='\\t', header=0)\n",
    "# Filter data where z=5\n",
    "ecm_data_filtered = ecm_data[ecm_data['z'] == 0]\n",
    "\n",
    "# cells:\n",
    "# Read the data file (assuming it's comma or space separated)\n",
    "cells_data = pd.read_csv('../config/initial_cond/cylinder_unit_cells_330_2D.csv', sep=',', header=None, names=['x', 'y', 'z', 'type'])\n",
    "cells_data[['x']] = (((cells_data[['x']] - 10) / 20) + 35).astype(int)\n",
    "cells_data[['y']] = (((cells_data[['y']] - 10) / 20) + 36).astype(int)\n",
    "cells_data[['z']] = (((cells_data[['z']] - 10) / 20) + 0).astype(int)\n",
    "# Filter data where z=2 which is 5 in the other datasets\n",
    "cells_data_filtered = cells_data[cells_data['z'] == 0]\n",
    "\n",
    "# endothelium:\n",
    "endo_data = pd.read_csv('../config/initial_cond/cylinder_unit_endo_2D.tsv', sep='\\t', header=0)\n",
    "endo_data[['x']] = (endo_data[['x']] - 1).astype(int)\n",
    "endo_data_filtered = endo_data[endo_data['z'] == 0]"
   ]
  },
  {
   "cell_type": "code",
   "execution_count": 57,
   "id": "6ad9e0a5",
   "metadata": {},
   "outputs": [
    {
     "name": "stdout",
     "output_type": "stream",
     "text": [
      "[0]\n",
      "[0]\n",
      "[0]\n"
     ]
    }
   ],
   "source": [
    "print(sorted(ecm_data['z'].unique())) \n",
    "print(sorted(cells_data['z'].unique()))\n",
    "print(sorted(endo_data['z'].unique()))\n"
   ]
  },
  {
   "cell_type": "code",
   "execution_count": 58,
   "id": "baf898e2",
   "metadata": {},
   "outputs": [
    {
     "name": "stdout",
     "output_type": "stream",
     "text": [
      "[18, 19, 20, 21, 22, 23, 24, 25, 26, 27, 28, 29, 30, 31, 32, 33, 34, 35, 36, 37, 38, 39, 40, 41, 42, 43, 44, 45, 46, 47, 48, 49, 50, 51]\n",
      "[19, 20, 21, 22, 23, 24, 25, 26, 27, 28, 29, 30, 31, 32, 33, 34, 35, 36, 37, 38, 39, 40, 41, 42, 43, 44, 45, 46, 47, 48, 49, 50, 51, 52]\n",
      "[0]\n"
     ]
    }
   ],
   "source": [
    "# print(sorted(ecm_data['x'].unique())) \n",
    "# print(sorted(endo_data['x'].unique()))\n",
    "print(sorted(cells_data['x'].unique()))\n",
    "# print(sorted(ecm_data['y'].unique())) \n",
    "# print(sorted(endo_data['y'].unique()))\n",
    "print(sorted(cells_data['y'].unique()))\n",
    "print(sorted(cells_data['z'].unique()))\n",
    "\n",
    "# print(cells_data['x'].describe())\n",
    "# print(cells_data['x'].value_counts().sort_index())\n"
   ]
  },
  {
   "cell_type": "code",
   "execution_count": 59,
   "id": "c8571b29",
   "metadata": {},
   "outputs": [],
   "source": [
    "# Create a pivot table for the heatmap\n",
    "# First find the dimensions of the grid\n",
    "x_max = int(ecm_data_filtered['x'].max())\n",
    "y_max = int(ecm_data_filtered['y'].max())\n",
    "\n",
    "# Create an empty grid\n",
    "grid = np.zeros((y_max + 1, x_max + 1))\n",
    "\n",
    "# Fill the grid with 1s of ECM\n",
    "for _, row in ecm_data_filtered.iterrows():\n",
    "    grid[int(row['y']), int(row['x'])] = 1\n",
    "    \n",
    "# Fill the grid with 2s of endothelium\n",
    "for _, row in endo_data_filtered.iterrows():\n",
    "    grid[int(row['y']), int(row['x'])] = 2\n",
    "\n",
    "# for _, row in cells_data_filtered.iterrows():\n",
    "#     grid[int(row['y']), int(row['x'])] = 3\n",
    "    \n",
    "# Fill cells with different values based on their type\n",
    "for _, row in cells_data_filtered.iterrows():\n",
    "    # Assuming types start from 1, add an offset to distinguish from ECM and endothelium\n",
    "    grid[int(row['y']), int(row['x'])] = row['type'] + 3 \n"
   ]
  },
  {
   "cell_type": "code",
   "execution_count": 60,
   "id": "82883b1e",
   "metadata": {},
   "outputs": [
    {
     "data": {
      "image/png": "[encoded data removed]",
      "text/plain": [
       "<Figure size 1000x800 with 1 Axes>"
      ]
     },
     "metadata": {},
     "output_type": "display_data"
    }
   ],
   "source": [
    "# Create custom colormap for different cell types\n",
    "n_types = len(cells_data_filtered['type'].unique())\n",
    "colors = ['white', '#FFF4C2', 'black'] + sns.color_palette(\"Set2\", n_types).as_hex()\n",
    "custom_cmap = plt.cm.colors.ListedColormap(colors)\n",
    "\n",
    "# Create the heatmap\n",
    "plt.figure(figsize=(10, 8))\n",
    "sns.heatmap(grid, \n",
    "            cmap=custom_cmap,  \n",
    "            cbar=False,     \n",
    "            xticklabels=False, \n",
    "            yticklabels=False)\n",
    "\n",
    "plt.gca().invert_yaxis()\n",
    "plt.show()"
   ]
  },
  {
   "cell_type": "code",
   "execution_count": 61,
   "id": "5449f3a5",
   "metadata": {},
   "outputs": [
    {
     "name": "stdout",
     "output_type": "stream",
     "text": [
      "[-350, -330, -310, -290, -270, -250, -230, -210, -190, -170, -150, -130, -110, -90, -70, -50, -30, -10, 10, 30, 50, 70, 90, 110, 130, 150, 170, 190, 210, 230, 250, 270, 290, 310]\n",
      "[-330, -310, -290, -270, -250, -230, -210, -190, -170, -150, -130, -110, -90, -70, -50, -30, -10, 10, 30, 50, 70, 90, 110, 130, 150, 170, 190, 210, 230, 250, 270, 290, 310, 330]\n",
      "[-30]\n"
     ]
    }
   ],
   "source": [
    "cells_data_filtered2 = cells_data_filtered.copy()\n",
    "cells_data_filtered2[['x']] = (((cells_data_filtered2[['x']] -36) * 20) + 10).astype(int)\n",
    "cells_data_filtered2[['y']] = (((cells_data_filtered2[['y']] -36) * 20) + 10).astype(int)\n",
    "cells_data_filtered2[['z']] = (((cells_data_filtered2[['z']] -3) * 20) + 30).astype(int)\n",
    "# cells_data_filtered[['y']] = (((cells_data_filtered[['y']] - 10) / 20) + 36).astype(int)\n",
    "# cells_data_filtered[['z']] = (((cells_data_filtered[['z']] - 10) / 20) + 3).astype(int)\n",
    "\n",
    "\n",
    "print(sorted(cells_data_filtered2['x'].unique()))\n",
    "print(sorted(cells_data_filtered2['y'].unique()))\n",
    "print(sorted(cells_data_filtered2['z'].unique()))\n"
   ]
  },
  {
   "cell_type": "code",
   "execution_count": 62,
   "id": "8b16a0c9",
   "metadata": {},
   "outputs": [],
   "source": [
    "ecm_data_filtered.to_csv('../config/cylinder_unit_ecm_2D.tsv', sep='\\t', index=False)\n",
    "cells_data_filtered2.to_csv('../config/cylinder_unit_cells_2D.csv', sep=',', index=False)\n",
    "endo_data_filtered.to_csv('../config/cylinder_unit_endo_2D.tsv', sep='\\t', index=False)\n"
   ]
  }
 ],
 "metadata": {
  "kernelspec": {
   "display_name": "base",
   "language": "python",
   "name": "python3"
  },
  "language_info": {
   "codemirror_mode": {
    "name": "ipython",
    "version": 3
   },
   "file_extension": ".py",
   "mimetype": "text/x-python",
   "name": "python",
   "nbconvert_exporter": "python",
   "pygments_lexer": "ipython3",
   "version": "3.12.7"
  }
 },
 "nbformat": 4,
 "nbformat_minor": 5
}
