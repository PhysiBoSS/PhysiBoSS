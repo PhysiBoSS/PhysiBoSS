{
 "cells": [
  {
   "cell_type": "code",
   "execution_count": 17,
   "id": "8ca35bfa",
   "metadata": {},
   "outputs": [],
   "source": [
    "import os\n",
    "import glob\n",
    "import imageio\n",
    "import cairosvg\n",
    "import tempfile\n"
   ]
  },
  {
   "cell_type": "code",
   "execution_count": 18,
   "id": "92f57575",
   "metadata": {},
   "outputs": [],
   "source": [
    "# cairosvg.svg2png(url='../../../../output/initial.svg', write_to='../../../../output/initial.png')"
   ]
  },
  {
   "cell_type": "code",
   "execution_count": 19,
   "id": "f5700158",
   "metadata": {},
   "outputs": [
    {
     "name": "stderr",
     "output_type": "stream",
     "text": [
      "/tmp/ipykernel_137330/3555308218.py:17: DeprecationWarning: Starting with ImageIO v3 the behavior of this function will switch to that of iio.v3.imread. To keep the current behavior (and make this warning disappear) use `import imageio.v2 as imageio` or call `imageio.v2.imread` directly.\n",
      "  images.append(imageio.imread(png_path))\n"
     ]
    }
   ],
   "source": [
    "# Path to the output folder containing SVGs\n",
    "output_dir = \"../../../../output\"\n",
    "\n",
    "# Get all snapshot SVG files sorted numerically\n",
    "svg_files = sorted(glob.glob(os.path.join(output_dir, \"snapshot*.svg\")))\n",
    "\n",
    "# Create a list to store images\n",
    "images = []\n",
    "\n",
    "# Create a temporary directory for PNG conversions\n",
    "with tempfile.TemporaryDirectory() as tmp_dir:\n",
    "    for svg_file in svg_files:\n",
    "        # Convert SVG to PNG\n",
    "        png_path = os.path.join(tmp_dir, os.path.basename(svg_file).replace('.svg', '.png'))\n",
    "        cairosvg.svg2png(url=svg_file, write_to=png_path)\n",
    "        # Read the PNG\n",
    "        images.append(imageio.imread(png_path))\n",
    "\n",
    "    # Save the GIF\n",
    "    output_gif = os.path.join(output_dir, \"simulation.gif\")\n",
    "    imageio.mimsave(output_gif, images, duration=0.5, loop=0)  # 0.5 seconds per frame\n",
    "\n",
    "# print(f\"Created GIF with {len(images)} frames at: {output_gif}\")"
   ]
  }
 ],
 "metadata": {
  "kernelspec": {
   "display_name": "base",
   "language": "python",
   "name": "python3"
  },
  "language_info": {
   "codemirror_mode": {
    "name": "ipython",
    "version": 3
   },
   "file_extension": ".py",
   "mimetype": "text/x-python",
   "name": "python",
   "nbconvert_exporter": "python",
   "pygments_lexer": "ipython3",
   "version": "3.12.7"
  }
 },
 "nbformat": 4,
 "nbformat_minor": 5
}
