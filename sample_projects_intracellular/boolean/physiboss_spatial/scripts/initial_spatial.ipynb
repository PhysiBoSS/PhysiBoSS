{
 "cells": [
  {
   "cell_type": "code",
   "execution_count": 136,
   "id": "d9017054",
   "metadata": {},
   "outputs": [],
   "source": [
    "import pandas as pd\n",
    "import matplotlib.pyplot as plt\n",
    "import seaborn as sns\n",
    "import numpy as np"
   ]
  },
  {
   "cell_type": "code",
   "execution_count": 137,
   "id": "b924bbcd",
   "metadata": {},
   "outputs": [],
   "source": [
    "# ECM:\n",
    "ecm_data = pd.read_csv('../config/ecm_2_walls_cilindro.tsv', sep='\\t', header=None, names=['x', 'y', 'z'])\n",
    "# Filter data where z=5\n",
    "ecm_data_filtered = ecm_data[ecm_data['z'] == 5]\n",
    "\n",
    "# cells:\n",
    "# Read the data file (assuming it's comma or space separated)\n",
    "cells_data = pd.read_csv('../config/cilindro_cells.csv', sep=',', header=None, names=['x', 'y', 'z', 'type'])\n",
    "cells_data[['x']] = (((cells_data[['x']] - 10) / 20) + 64).astype(int)\n",
    "cells_data[['y']] = (((cells_data[['y']] - 10) / 20) + 43).astype(int)\n",
    "cells_data[['z']] = (((cells_data[['z']] - 10) / 20) + 2).astype(int)\n",
    "# Filter data where z=2 which is 5 in the other datasets\n",
    "cells_data_filtered = cells_data[cells_data['z'] == 2]"
   ]
  },
  {
   "cell_type": "code",
   "execution_count": null,
   "id": "cc6d699f",
   "metadata": {},
   "outputs": [],
   "source": [
    "# endothelium:\n",
    "endo_data = pd.read_csv('../config/cilindro_endo_doble_originalrealtissue.tsv', sep='\\t', header=None, names=['x', 'y', 'z'])\n",
    "endo_data[['x']] = (endo_data[['x']] - 1).astype(int)\n",
    "endo_data_filtered = endo_data[endo_data['z'] == 5]\n",
    "\n",
    "# endo_data = pd.read_csv('../config/cilindro_endo_doble.tsv', sep='\\t', header=None, names=['x', 'y', 'z'])\n",
    "# endo_data_filtered = endo_data[endo_data['z'] == 5]"
   ]
  },
  {
   "cell_type": "code",
   "execution_count": 139,
   "id": "6ad9e0a5",
   "metadata": {},
   "outputs": [
    {
     "name": "stdout",
     "output_type": "stream",
     "text": [
      "[0, 1, 2, 3, 4, 5, 6, 7, 8, 9, 10, 11, 12, 13]\n",
      "[5, 6, 7, 8, 9]\n",
      "[0, 1, 2, 3, 4]\n"
     ]
    }
   ],
   "source": [
    "print(sorted(ecm_data['z'].unique())) \n",
    "print(sorted(endo_data['z'].unique()))\n",
    "print(sorted(cells_data['z'].unique()))"
   ]
  },
  {
   "cell_type": "code",
   "execution_count": 140,
   "id": "c8571b29",
   "metadata": {},
   "outputs": [],
   "source": [
    "# Create a pivot table for the heatmap\n",
    "# First find the dimensions of the grid\n",
    "x_max = int(ecm_data_filtered['x'].max())\n",
    "y_max = int(ecm_data_filtered['y'].max())\n",
    "\n",
    "# Create an empty grid\n",
    "grid = np.zeros((y_max + 1, x_max + 1))\n",
    "\n",
    "# Fill the grid with 1s of ECM\n",
    "for _, row in ecm_data_filtered.iterrows():\n",
    "    grid[int(row['y']), int(row['x'])] = 1\n",
    "    \n",
    "# Fill the grid with 2s of endothelium\n",
    "for _, row in endo_data_filtered.iterrows():\n",
    "    grid[int(row['y']), int(row['x'])] = 2\n",
    "\n",
    "# for _, row in cells_data_filtered.iterrows():\n",
    "#     grid[int(row['y']), int(row['x'])] = 3\n",
    "    \n",
    "# Fill cells with different values based on their type\n",
    "for _, row in cells_data_filtered.iterrows():\n",
    "    # Assuming types start from 1, add an offset to distinguish from ECM and endothelium\n",
    "    grid[int(row['y']), int(row['x'])] = row['type'] + 3 \n"
   ]
  },
  {
   "cell_type": "code",
   "execution_count": 141,
   "id": "82883b1e",
   "metadata": {},
   "outputs": [
    {
     "data": {
      "image/png": "[encoded data removed]",
      "text/plain": [
       "<Figure size 1000x800 with 1 Axes>"
      ]
     },
     "metadata": {},
     "output_type": "display_data"
    }
   ],
   "source": [
    "# Create custom colormap for different cell types\n",
    "n_types = len(cells_data_filtered['type'].unique())\n",
    "colors = ['white', '#FFF4C2', 'black'] + sns.color_palette(\"Set2\", n_types).as_hex()\n",
    "custom_cmap = plt.cm.colors.ListedColormap(colors)\n",
    "\n",
    "# Create the heatmap\n",
    "plt.figure(figsize=(10, 8))\n",
    "sns.heatmap(grid, \n",
    "            cmap=custom_cmap,  \n",
    "            cbar=False,     \n",
    "            xticklabels=False, \n",
    "            yticklabels=False)\n",
    "\n",
    "plt.gca().invert_yaxis()\n",
    "plt.show()"
   ]
  },
  {
   "cell_type": "code",
   "execution_count": 142,
   "id": "8b16a0c9",
   "metadata": {},
   "outputs": [],
   "source": [
    "# Create the heatmap\n",
    "# plt.figure(figsize=(10, 8))\n",
    "# sns.heatmap(grid, \n",
    "#             cmap='YlOrBr', \n",
    "#             cbar=False,     \n",
    "#             xticklabels=False, \n",
    "#             yticklabels=False)\n",
    "# plt.gca().invert_yaxis()\n",
    "# plt.show()"
   ]
  }
 ],
 "metadata": {
  "kernelspec": {
   "display_name": "base",
   "language": "python",
   "name": "python3"
  },
  "language_info": {
   "codemirror_mode": {
    "name": "ipython",
    "version": 3
   },
   "file_extension": ".py",
   "mimetype": "text/x-python",
   "name": "python",
   "nbconvert_exporter": "python",
   "pygments_lexer": "ipython3",
   "version": "3.12.7"
  }
 },
 "nbformat": 4,
 "nbformat_minor": 5
}
